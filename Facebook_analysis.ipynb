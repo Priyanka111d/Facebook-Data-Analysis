{
 "cells": [
  {
   "cell_type": "markdown",
   "id": "e78faefc",
   "metadata": {},
   "source": [
    "# Python Version 3.11.1"
   ]
  },
  {
   "cell_type": "raw",
   "id": "2db41cce",
   "metadata": {},
   "source": [
    "Facebook Data Analysis"
   ]
  },
  {
   "cell_type": "code",
   "execution_count": 3,
   "id": "bda0b9b4",
   "metadata": {},
   "outputs": [],
   "source": [
    "# import libraries\n",
    "import numpy as np\n",
    "import pandas as pd"
   ]
  },
  {
   "cell_type": "code",
   "execution_count": 4,
   "id": "b14583e2",
   "metadata": {},
   "outputs": [],
   "source": [
    "df = pd.read_csv('facebook user data - facebook user data.csv')"
   ]
  },
  {
   "cell_type": "code",
   "execution_count": 5,
   "id": "2e8d2462",
   "metadata": {},
   "outputs": [
    {
     "name": "stdout",
     "output_type": "stream",
     "text": [
      "    userid  age  dob_day  dob_year  dob_month  gender  tenure  friend_count  \\\n",
      "0  2094382   14       19      1999         11    male   266.0             0   \n",
      "1  1192601   14        2      1999         11  female     6.0             0   \n",
      "2  2083884   14       16      1999         11    male    13.0             0   \n",
      "3  1203168   14       25      1999         12  female    93.0             0   \n",
      "4  1733186   14        4      1999         12    male    82.0             0   \n",
      "\n",
      "   friendships_initiated  likes  likes_received  mobile_likes  \\\n",
      "0                      0      0               0             0   \n",
      "1                      0      0               0             0   \n",
      "2                      0      0               0             0   \n",
      "3                      0      0               0             0   \n",
      "4                      0      0               0             0   \n",
      "\n",
      "   mobile_likes_received  www_likes  www_likes_received  \n",
      "0                      0          0                   0  \n",
      "1                      0          0                   0  \n",
      "2                      0          0                   0  \n",
      "3                      0          0                   0  \n",
      "4                      0          0                   0  \n"
     ]
    }
   ],
   "source": [
    "print(df.head())"
   ]
  },
  {
   "cell_type": "code",
   "execution_count": 4,
   "id": "1de71d9c",
   "metadata": {},
   "outputs": [
    {
     "name": "stdout",
     "output_type": "stream",
     "text": [
      "        userid  age  dob_day  dob_year  dob_month  gender  tenure  \\\n",
      "98998  1268299   68        4      1945          4  female   541.0   \n",
      "98999  1256153   18       12      1995          3  female    21.0   \n",
      "99000  1195943   15       10      1998          5  female   111.0   \n",
      "99001  1468023   23       11      1990          4  female   416.0   \n",
      "99002  1397896   39       15      1974          5  female   397.0   \n",
      "\n",
      "       friend_count  friendships_initiated  likes  likes_received  \\\n",
      "98998          2118                    341   3996           18089   \n",
      "98999          1968                   1720   4401           13412   \n",
      "99000          2002                   1524  11959           12554   \n",
      "99001          2560                    185   4506            6516   \n",
      "99002          2049                    768   9410           12443   \n",
      "\n",
      "       mobile_likes  mobile_likes_received  www_likes  www_likes_received  \n",
      "98998          3505                  11887        491                6202  \n",
      "98999          4399                  10592          2                2820  \n",
      "99000         11959                  11462          0                1092  \n",
      "99001          4506                   5760          0                 756  \n",
      "99002          9410                   9530          0                2913  \n"
     ]
    }
   ],
   "source": [
    "print(df.tail())"
   ]
  },
  {
   "cell_type": "code",
   "execution_count": 6,
   "id": "a26b9473",
   "metadata": {},
   "outputs": [
    {
     "name": "stdout",
     "output_type": "stream",
     "text": [
      "<class 'pandas.core.frame.DataFrame'>\n",
      "RangeIndex: 99003 entries, 0 to 99002\n",
      "Data columns (total 15 columns):\n",
      " #   Column                 Non-Null Count  Dtype  \n",
      "---  ------                 --------------  -----  \n",
      " 0   userid                 99003 non-null  int64  \n",
      " 1   age                    99003 non-null  int64  \n",
      " 2   dob_day                99003 non-null  int64  \n",
      " 3   dob_year               99003 non-null  int64  \n",
      " 4   dob_month              99003 non-null  int64  \n",
      " 5   gender                 98828 non-null  object \n",
      " 6   tenure                 99001 non-null  float64\n",
      " 7   friend_count           99003 non-null  int64  \n",
      " 8   friendships_initiated  99003 non-null  int64  \n",
      " 9   likes                  99003 non-null  int64  \n",
      " 10  likes_received         99003 non-null  int64  \n",
      " 11  mobile_likes           99003 non-null  int64  \n",
      " 12  mobile_likes_received  99003 non-null  int64  \n",
      " 13  www_likes              99003 non-null  int64  \n",
      " 14  www_likes_received     99003 non-null  int64  \n",
      "dtypes: float64(1), int64(13), object(1)\n",
      "memory usage: 11.3+ MB\n",
      "None\n"
     ]
    }
   ],
   "source": [
    "print(df.info())"
   ]
  },
  {
   "cell_type": "code",
   "execution_count": 7,
   "id": "773ae010",
   "metadata": {},
   "outputs": [
    {
     "name": "stdout",
     "output_type": "stream",
     "text": [
      "userid                     0\n",
      "age                        0\n",
      "dob_day                    0\n",
      "dob_year                   0\n",
      "dob_month                  0\n",
      "gender                   175\n",
      "tenure                     2\n",
      "friend_count               0\n",
      "friendships_initiated      0\n",
      "likes                      0\n",
      "likes_received             0\n",
      "mobile_likes               0\n",
      "mobile_likes_received      0\n",
      "www_likes                  0\n",
      "www_likes_received         0\n",
      "dtype: int64\n"
     ]
    }
   ],
   "source": [
    "# find toal null or blank values of each column\n",
    "print(df.isnull().sum())"
   ]
  },
  {
   "cell_type": "code",
   "execution_count": 7,
   "id": "33c96520",
   "metadata": {},
   "outputs": [
    {
     "data": {
      "text/plain": [
       "count     98828\n",
       "unique        2\n",
       "top        male\n",
       "freq      58574\n",
       "Name: gender, dtype: object"
      ]
     },
     "execution_count": 7,
     "metadata": {},
     "output_type": "execute_result"
    }
   ],
   "source": [
    "df['gender'].describe()"
   ]
  },
  {
   "cell_type": "code",
   "execution_count": 8,
   "id": "06ca401f",
   "metadata": {},
   "outputs": [
    {
     "data": {
      "text/plain": [
       "male      58574\n",
       "female    40254\n",
       "Name: gender, dtype: int64"
      ]
     },
     "execution_count": 8,
     "metadata": {},
     "output_type": "execute_result"
    }
   ],
   "source": [
    "df['gender'].value_counts()  # print(df.median())"
   ]
  },
  {
   "cell_type": "code",
   "execution_count": 1,
   "id": "bfbff55d",
   "metadata": {},
   "outputs": [
    {
     "name": "stdout",
     "output_type": "stream",
     "text": [
      "Requirement already satisfied: scikit-learn in c:\\users\\hp\\anaconda3\\lib\\site-packages (1.0.2)\n",
      "Requirement already satisfied: scipy>=1.1.0 in c:\\users\\hp\\anaconda3\\lib\\site-packages (from scikit-learn) (1.9.1)\n",
      "Requirement already satisfied: joblib>=0.11 in c:\\users\\hp\\anaconda3\\lib\\site-packages (from scikit-learn) (1.1.0)\n",
      "Requirement already satisfied: numpy>=1.14.6 in c:\\users\\hp\\anaconda3\\lib\\site-packages (from scikit-learn) (1.21.5)\n",
      "Requirement already satisfied: threadpoolctl>=2.0.0 in c:\\users\\hp\\anaconda3\\lib\\site-packages (from scikit-learn) (2.2.0)\n",
      "Note: you may need to restart the kernel to use updated packages.\n"
     ]
    }
   ],
   "source": [
    "pip install scikit-learn"
   ]
  },
  {
   "cell_type": "code",
   "execution_count": 9,
   "id": "81a9738a",
   "metadata": {},
   "outputs": [],
   "source": [
    "# converting string to numeric value with the help of scikit-learn library using LabelEncoder funtion\n",
    "from sklearn.preprocessing import LabelEncoder\n",
    "le=LabelEncoder()\n",
    "df['gender']=le.fit_transform(df['gender'])"
   ]
  },
  {
   "cell_type": "code",
   "execution_count": 10,
   "id": "8d1d6166",
   "metadata": {},
   "outputs": [
    {
     "name": "stdout",
     "output_type": "stream",
     "text": [
      "        userid  age  dob_day  dob_year  dob_month  gender  tenure  \\\n",
      "0      2094382   14       19      1999         11       1   266.0   \n",
      "1      1192601   14        2      1999         11       0     6.0   \n",
      "2      2083884   14       16      1999         11       1    13.0   \n",
      "3      1203168   14       25      1999         12       0    93.0   \n",
      "4      1733186   14        4      1999         12       1    82.0   \n",
      "...        ...  ...      ...       ...        ...     ...     ...   \n",
      "98998  1268299   68        4      1945          4       0   541.0   \n",
      "98999  1256153   18       12      1995          3       0    21.0   \n",
      "99000  1195943   15       10      1998          5       0   111.0   \n",
      "99001  1468023   23       11      1990          4       0   416.0   \n",
      "99002  1397896   39       15      1974          5       0   397.0   \n",
      "\n",
      "       friend_count  friendships_initiated  likes  likes_received  \\\n",
      "0                 0                      0      0               0   \n",
      "1                 0                      0      0               0   \n",
      "2                 0                      0      0               0   \n",
      "3                 0                      0      0               0   \n",
      "4                 0                      0      0               0   \n",
      "...             ...                    ...    ...             ...   \n",
      "98998          2118                    341   3996           18089   \n",
      "98999          1968                   1720   4401           13412   \n",
      "99000          2002                   1524  11959           12554   \n",
      "99001          2560                    185   4506            6516   \n",
      "99002          2049                    768   9410           12443   \n",
      "\n",
      "       mobile_likes  mobile_likes_received  www_likes  www_likes_received  \n",
      "0                 0                      0          0                   0  \n",
      "1                 0                      0          0                   0  \n",
      "2                 0                      0          0                   0  \n",
      "3                 0                      0          0                   0  \n",
      "4                 0                      0          0                   0  \n",
      "...             ...                    ...        ...                 ...  \n",
      "98998          3505                  11887        491                6202  \n",
      "98999          4399                  10592          2                2820  \n",
      "99000         11959                  11462          0                1092  \n",
      "99001          4506                   5760          0                 756  \n",
      "99002          9410                   9530          0                2913  \n",
      "\n",
      "[99003 rows x 15 columns]\n"
     ]
    }
   ],
   "source": [
    "print(df)"
   ]
  },
  {
   "cell_type": "code",
   "execution_count": 11,
   "id": "42542954",
   "metadata": {},
   "outputs": [
    {
     "name": "stdout",
     "output_type": "stream",
     "text": [
      "                         userid       age   dob_day  dob_year  dob_month  \\\n",
      "userid                 1.000000 -0.007265 -0.000839  0.007265   0.002924   \n",
      "age                   -0.007265  1.000000  0.035035 -1.000000   0.025167   \n",
      "dob_day               -0.000839  0.035035  1.000000 -0.035035   0.129443   \n",
      "dob_year               0.007265 -1.000000 -0.035035  1.000000  -0.025167   \n",
      "dob_month              0.002924  0.025167  0.129443 -0.025167   1.000000   \n",
      "gender                -0.001820 -0.073412 -0.046840  0.073412  -0.036317   \n",
      "tenure                -0.003446  0.462742  0.041855 -0.462742   0.029446   \n",
      "friend_count          -0.001314 -0.027407  0.021961  0.027407   0.019804   \n",
      "friendships_initiated -0.001591 -0.058059  0.022999  0.058059   0.020075   \n",
      "likes                 -0.002875 -0.013009  0.015980  0.013009   0.014147   \n",
      "likes_received         0.001526 -0.022570  0.001367  0.022570   0.006495   \n",
      "mobile_likes          -0.004868 -0.026715  0.014541  0.026715   0.010400   \n",
      "mobile_likes_received  0.001753 -0.024248  0.000497  0.024248   0.006435   \n",
      "www_likes              0.001828  0.015585  0.009353 -0.015585   0.012136   \n",
      "www_likes_received     0.001074 -0.018224  0.002460  0.018224   0.006003   \n",
      "\n",
      "                         gender    tenure  friend_count  \\\n",
      "userid                -0.001820 -0.003446     -0.001314   \n",
      "age                   -0.073412  0.462742     -0.027407   \n",
      "dob_day               -0.046840  0.041855      0.021961   \n",
      "dob_year               0.073412 -0.462742      0.027407   \n",
      "dob_month             -0.036317  0.029446      0.019804   \n",
      "gender                 1.000000 -0.078786     -0.096969   \n",
      "tenure                -0.078786  1.000000      0.166256   \n",
      "friend_count          -0.096969  0.166256      1.000000   \n",
      "friendships_initiated -0.028362  0.133505      0.825850   \n",
      "likes                 -0.149511  0.057132      0.298017   \n",
      "likes_received        -0.064393  0.027745      0.236463   \n",
      "mobile_likes          -0.123499  0.028052      0.235656   \n",
      "mobile_likes_received -0.061656  0.023971      0.232701   \n",
      "www_likes             -0.107066  0.070757      0.229803   \n",
      "www_likes_received    -0.062499  0.030553      0.220727   \n",
      "\n",
      "                       friendships_initiated     likes  likes_received  \\\n",
      "userid                             -0.001591 -0.002875        0.001526   \n",
      "age                                -0.058059 -0.013009       -0.022570   \n",
      "dob_day                             0.022999  0.015980        0.001367   \n",
      "dob_year                            0.058059  0.013009        0.022570   \n",
      "dob_month                           0.020075  0.014147        0.006495   \n",
      "gender                             -0.028362 -0.149511       -0.064393   \n",
      "tenure                              0.133505  0.057132        0.027745   \n",
      "friend_count                        0.825850  0.298017        0.236463   \n",
      "friendships_initiated               1.000000  0.285592        0.175131   \n",
      "likes                               0.285592  1.000000        0.327376   \n",
      "likes_received                      0.175131  0.327376        1.000000   \n",
      "mobile_likes                        0.229808  0.871652        0.256998   \n",
      "mobile_likes_received               0.173804  0.329258        0.973679   \n",
      "www_likes                           0.214022  0.644960        0.255365   \n",
      "www_likes_received                  0.161439  0.295687        0.947990   \n",
      "\n",
      "                       mobile_likes  mobile_likes_received  www_likes  \\\n",
      "userid                    -0.004868               0.001753   0.001828   \n",
      "age                       -0.026715              -0.024248   0.015585   \n",
      "dob_day                    0.014541               0.000497   0.009353   \n",
      "dob_year                   0.026715               0.024248  -0.015585   \n",
      "dob_month                  0.010400               0.006435   0.012136   \n",
      "gender                    -0.123499              -0.061656  -0.107066   \n",
      "tenure                     0.028052               0.023971   0.070757   \n",
      "friend_count               0.235656               0.232701   0.229803   \n",
      "friendships_initiated      0.229808               0.173804   0.214022   \n",
      "likes                      0.871652               0.329258   0.644960   \n",
      "likes_received             0.256998               0.973679   0.255365   \n",
      "mobile_likes               1.000000               0.288513   0.187619   \n",
      "mobile_likes_received      0.288513               1.000000   0.209997   \n",
      "www_likes                  0.187619               0.209997   1.000000   \n",
      "www_likes_received         0.190173               0.850490   0.296053   \n",
      "\n",
      "                       www_likes_received  \n",
      "userid                           0.001074  \n",
      "age                             -0.018224  \n",
      "dob_day                          0.002460  \n",
      "dob_year                         0.018224  \n",
      "dob_month                        0.006003  \n",
      "gender                          -0.062499  \n",
      "tenure                           0.030553  \n",
      "friend_count                     0.220727  \n",
      "friendships_initiated            0.161439  \n",
      "likes                            0.295687  \n",
      "likes_received                   0.947990  \n",
      "mobile_likes                     0.190173  \n",
      "mobile_likes_received            0.850490  \n",
      "www_likes                        0.296053  \n",
      "www_likes_received               1.000000  \n"
     ]
    }
   ],
   "source": [
    "print(df.corr())"
   ]
  },
  {
   "cell_type": "code",
   "execution_count": 12,
   "id": "839aea21",
   "metadata": {},
   "outputs": [
    {
     "name": "stdout",
     "output_type": "stream",
     "text": [
      "userid                   1596148.0\n",
      "age                           28.0\n",
      "dob_day                       14.0\n",
      "dob_year                    1985.0\n",
      "dob_month                      6.0\n",
      "gender                         1.0\n",
      "tenure                       412.0\n",
      "friend_count                  82.0\n",
      "friendships_initiated         46.0\n",
      "likes                         11.0\n",
      "likes_received                 8.0\n",
      "mobile_likes                   4.0\n",
      "mobile_likes_received          4.0\n",
      "www_likes                      0.0\n",
      "www_likes_received             2.0\n",
      "dtype: float64\n"
     ]
    }
   ],
   "source": [
    "print(df.median())"
   ]
  },
  {
   "cell_type": "code",
   "execution_count": 11,
   "id": "e2a55f09",
   "metadata": {},
   "outputs": [],
   "source": [
    "# filling null value for column gender\n",
    "from sklearn.impute import SimpleImputer\n",
    "imputer = SimpleImputer(strategy='most_frequent')\n",
    "df.gender = imputer.fit_transform(df['gender'].values.reshape(-1,1))"
   ]
  },
  {
   "cell_type": "code",
   "execution_count": 12,
   "id": "bd31230b",
   "metadata": {},
   "outputs": [
    {
     "name": "stdout",
     "output_type": "stream",
     "text": [
      "        userid  age  dob_day  dob_year  dob_month  gender  tenure  \\\n",
      "0      2094382   14       19      1999         11    male   266.0   \n",
      "1      1192601   14        2      1999         11  female     6.0   \n",
      "2      2083884   14       16      1999         11    male    13.0   \n",
      "3      1203168   14       25      1999         12  female    93.0   \n",
      "4      1733186   14        4      1999         12    male    82.0   \n",
      "...        ...  ...      ...       ...        ...     ...     ...   \n",
      "98998  1268299   68        4      1945          4  female   541.0   \n",
      "98999  1256153   18       12      1995          3  female    21.0   \n",
      "99000  1195943   15       10      1998          5  female   111.0   \n",
      "99001  1468023   23       11      1990          4  female   416.0   \n",
      "99002  1397896   39       15      1974          5  female   397.0   \n",
      "\n",
      "       friend_count  friendships_initiated  likes  likes_received  \\\n",
      "0                 0                      0      0               0   \n",
      "1                 0                      0      0               0   \n",
      "2                 0                      0      0               0   \n",
      "3                 0                      0      0               0   \n",
      "4                 0                      0      0               0   \n",
      "...             ...                    ...    ...             ...   \n",
      "98998          2118                    341   3996           18089   \n",
      "98999          1968                   1720   4401           13412   \n",
      "99000          2002                   1524  11959           12554   \n",
      "99001          2560                    185   4506            6516   \n",
      "99002          2049                    768   9410           12443   \n",
      "\n",
      "       mobile_likes  mobile_likes_received  www_likes  www_likes_received  \n",
      "0                 0                      0          0                   0  \n",
      "1                 0                      0          0                   0  \n",
      "2                 0                      0          0                   0  \n",
      "3                 0                      0          0                   0  \n",
      "4                 0                      0          0                   0  \n",
      "...             ...                    ...        ...                 ...  \n",
      "98998          3505                  11887        491                6202  \n",
      "98999          4399                  10592          2                2820  \n",
      "99000         11959                  11462          0                1092  \n",
      "99001          4506                   5760          0                 756  \n",
      "99002          9410                   9530          0                2913  \n",
      "\n",
      "[99003 rows x 15 columns]\n"
     ]
    }
   ],
   "source": [
    "print(df)"
   ]
  },
  {
   "cell_type": "code",
   "execution_count": 13,
   "id": "728a33f4",
   "metadata": {},
   "outputs": [
    {
     "name": "stdout",
     "output_type": "stream",
     "text": [
      "<class 'pandas.core.frame.DataFrame'>\n",
      "RangeIndex: 99003 entries, 0 to 99002\n",
      "Data columns (total 15 columns):\n",
      " #   Column                 Non-Null Count  Dtype  \n",
      "---  ------                 --------------  -----  \n",
      " 0   userid                 99003 non-null  int64  \n",
      " 1   age                    99003 non-null  int64  \n",
      " 2   dob_day                99003 non-null  int64  \n",
      " 3   dob_year               99003 non-null  int64  \n",
      " 4   dob_month              99003 non-null  int64  \n",
      " 5   gender                 99003 non-null  object \n",
      " 6   tenure                 99001 non-null  float64\n",
      " 7   friend_count           99003 non-null  int64  \n",
      " 8   friendships_initiated  99003 non-null  int64  \n",
      " 9   likes                  99003 non-null  int64  \n",
      " 10  likes_received         99003 non-null  int64  \n",
      " 11  mobile_likes           99003 non-null  int64  \n",
      " 12  mobile_likes_received  99003 non-null  int64  \n",
      " 13  www_likes              99003 non-null  int64  \n",
      " 14  www_likes_received     99003 non-null  int64  \n",
      "dtypes: float64(1), int64(13), object(1)\n",
      "memory usage: 11.3+ MB\n",
      "None\n"
     ]
    }
   ],
   "source": [
    "print(df.info())"
   ]
  },
  {
   "cell_type": "code",
   "execution_count": 12,
   "id": "4c91cd97",
   "metadata": {},
   "outputs": [],
   "source": [
    "from sklearn.impute import SimpleImputer\n",
    "imputer = SimpleImputer(strategy='median')\n",
    "df.tenure = imputer.fit_transform(df['tenure'].values.reshape(-1,1))"
   ]
  },
  {
   "cell_type": "code",
   "execution_count": 15,
   "id": "5b55b731",
   "metadata": {},
   "outputs": [
    {
     "name": "stdout",
     "output_type": "stream",
     "text": [
      "        userid  age  dob_day  dob_year  dob_month  gender  tenure  \\\n",
      "0      2094382   14       19      1999         11    male   266.0   \n",
      "1      1192601   14        2      1999         11  female     6.0   \n",
      "2      2083884   14       16      1999         11    male    13.0   \n",
      "3      1203168   14       25      1999         12  female    93.0   \n",
      "4      1733186   14        4      1999         12    male    82.0   \n",
      "...        ...  ...      ...       ...        ...     ...     ...   \n",
      "98998  1268299   68        4      1945          4  female   541.0   \n",
      "98999  1256153   18       12      1995          3  female    21.0   \n",
      "99000  1195943   15       10      1998          5  female   111.0   \n",
      "99001  1468023   23       11      1990          4  female   416.0   \n",
      "99002  1397896   39       15      1974          5  female   397.0   \n",
      "\n",
      "       friend_count  friendships_initiated  likes  likes_received  \\\n",
      "0                 0                      0      0               0   \n",
      "1                 0                      0      0               0   \n",
      "2                 0                      0      0               0   \n",
      "3                 0                      0      0               0   \n",
      "4                 0                      0      0               0   \n",
      "...             ...                    ...    ...             ...   \n",
      "98998          2118                    341   3996           18089   \n",
      "98999          1968                   1720   4401           13412   \n",
      "99000          2002                   1524  11959           12554   \n",
      "99001          2560                    185   4506            6516   \n",
      "99002          2049                    768   9410           12443   \n",
      "\n",
      "       mobile_likes  mobile_likes_received  www_likes  www_likes_received  \n",
      "0                 0                      0          0                   0  \n",
      "1                 0                      0          0                   0  \n",
      "2                 0                      0          0                   0  \n",
      "3                 0                      0          0                   0  \n",
      "4                 0                      0          0                   0  \n",
      "...             ...                    ...        ...                 ...  \n",
      "98998          3505                  11887        491                6202  \n",
      "98999          4399                  10592          2                2820  \n",
      "99000         11959                  11462          0                1092  \n",
      "99001          4506                   5760          0                 756  \n",
      "99002          9410                   9530          0                2913  \n",
      "\n",
      "[99003 rows x 15 columns]\n"
     ]
    }
   ],
   "source": [
    "print(df)"
   ]
  },
  {
   "cell_type": "code",
   "execution_count": 13,
   "id": "dd3fc1dd",
   "metadata": {},
   "outputs": [
    {
     "name": "stdout",
     "output_type": "stream",
     "text": [
      "userid                   0\n",
      "age                      0\n",
      "dob_day                  0\n",
      "dob_year                 0\n",
      "dob_month                0\n",
      "gender                   0\n",
      "tenure                   0\n",
      "friend_count             0\n",
      "friendships_initiated    0\n",
      "likes                    0\n",
      "likes_received           0\n",
      "mobile_likes             0\n",
      "mobile_likes_received    0\n",
      "www_likes                0\n",
      "www_likes_received       0\n",
      "dtype: int64\n"
     ]
    }
   ],
   "source": [
    "print(df.isnull().sum())"
   ]
  },
  {
   "cell_type": "code",
   "execution_count": 14,
   "id": "127460b9",
   "metadata": {},
   "outputs": [],
   "source": [
    "df = pd.DataFrame(df, columns=['userid', 'age', 'dob_day', 'dob_year', 'dob_month',\n",
    "'gender','tenure','friend_count', 'friendships_initiated', 'likes', 'likes_received',\n",
    "'mobile_likes', 'mobile_likes_received', 'www_likes',\n",
    "'www_likes_received']).to_csv('Facebook_data_New_12-032023.csv')"
   ]
  },
  {
   "cell_type": "code",
   "execution_count": null,
   "id": "1513e19b",
   "metadata": {},
   "outputs": [],
   "source": []
  }
 ],
 "metadata": {
  "kernelspec": {
   "display_name": "Python 3 (ipykernel)",
   "language": "python",
   "name": "python3"
  },
  "language_info": {
   "codemirror_mode": {
    "name": "ipython",
    "version": 3
   },
   "file_extension": ".py",
   "mimetype": "text/x-python",
   "name": "python",
   "nbconvert_exporter": "python",
   "pygments_lexer": "ipython3",
   "version": "3.11.7"
  }
 },
 "nbformat": 4,
 "nbformat_minor": 5
}
